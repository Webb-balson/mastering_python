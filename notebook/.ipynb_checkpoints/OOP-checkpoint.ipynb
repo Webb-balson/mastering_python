{
 "cells": [
  {
   "cell_type": "code",
   "execution_count": 3,
   "id": "1757f57b",
   "metadata": {},
   "outputs": [],
   "source": [
    "class Employee:\n",
    "    def __init__(self, name: str, age: int, salary: int):\n",
    "        self.name = name\n",
    "        self.age = age\n",
    "        self.salary = salary\n",
    "        \n",
    "    def detail_of_emp(self):\n",
    "        print(f\"Name - {self.name}, Age - {self.age}, Salary - {self.salary}\")\n",
    "              "
   ]
  },
  {
   "cell_type": "code",
   "execution_count": 4,
   "id": "de3b212a",
   "metadata": {},
   "outputs": [],
   "source": [
    "e1 = Employee(\"Balson\", 27, 80000)"
   ]
  },
  {
   "cell_type": "code",
   "execution_count": 5,
   "id": "e6250809",
   "metadata": {},
   "outputs": [
    {
     "name": "stdout",
     "output_type": "stream",
     "text": [
      "Name - Balson, Age - 27, Salary - 80000\n"
     ]
    }
   ],
   "source": [
    "e1.detail_of_emp()"
   ]
  },
  {
   "cell_type": "code",
   "execution_count": 6,
   "id": "04f792cc",
   "metadata": {},
   "outputs": [],
   "source": [
    "class Student:\n",
    "    def __init__(self, name, grade):\n",
    "        self.name = name\n",
    "        self.grade = grade\n",
    "        \n",
    "    def get_grade(self):\n",
    "        return self.grade\n",
    "    \n",
    "    \n",
    "    "
   ]
  },
  {
   "cell_type": "code",
   "execution_count": 8,
   "id": "c9c90d03",
   "metadata": {},
   "outputs": [],
   "source": [
    "class Course:\n",
    "    def __init__(self, name, num_students):\n",
    "        self.name = name\n",
    "        self.students = []\n",
    "        self.num_students = num_students\n",
    "        \n",
    "    def add_student(self, student):\n",
    "        if len(self.students) < self.num_students:\n",
    "            self.student.append(student)\n",
    "        else:\n",
    "            print(\"Course reached maximum number\")"
   ]
  },
  {
   "cell_type": "code",
   "execution_count": null,
   "id": "ce0a8662",
   "metadata": {},
   "outputs": [],
   "source": []
  }
 ],
 "metadata": {
  "kernelspec": {
   "display_name": "Python 3",
   "language": "python",
   "name": "python3"
  },
  "language_info": {
   "codemirror_mode": {
    "name": "ipython",
    "version": 3
   },
   "file_extension": ".py",
   "mimetype": "text/x-python",
   "name": "python",
   "nbconvert_exporter": "python",
   "pygments_lexer": "ipython3",
   "version": "3.10.12"
  }
 },
 "nbformat": 4,
 "nbformat_minor": 5
}
