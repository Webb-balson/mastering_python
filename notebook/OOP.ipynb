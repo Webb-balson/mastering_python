{
 "cells": [
  {
   "cell_type": "code",
   "execution_count": 3,
   "id": "7e57946b",
   "metadata": {},
   "outputs": [],
   "source": [
    "class Employee:\n",
    "    def __init__(self, name: str, age: int, salary: int):\n",
    "        self.name = name\n",
    "        self.age = age\n",
    "        self.salary = salary\n",
    "        \n",
    "    def detail_of_emp(self):\n",
    "        print(f\"Name - {self.name}, Age - {self.age}, Salary - {self.salary}\")\n",
    "              "
   ]
  },
  {
   "cell_type": "code",
   "execution_count": 4,
   "id": "8abf752d",
   "metadata": {},
   "outputs": [],
   "source": [
    "e1 = Employee(\"Balson\", 27, 80000)"
   ]
  },
  {
   "cell_type": "code",
   "execution_count": 5,
   "id": "8aed9158",
   "metadata": {},
   "outputs": [
    {
     "name": "stdout",
     "output_type": "stream",
     "text": [
      "Name - Balson, Age - 27, Salary - 80000\n"
     ]
    }
   ],
   "source": [
    "e1.detail_of_emp()"
   ]
  },
  {
   "cell_type": "code",
   "execution_count": 15,
   "id": "fbc1990a",
   "metadata": {},
   "outputs": [],
   "source": [
    "class Student:\n",
    "    def __init__(self, name: str, grade: int):\n",
    "        self.name = name\n",
    "        self.grade = grade\n",
    "        \n",
    "    def get_grade(self):\n",
    "        return self.grade\n",
    "    \n",
    "    \n",
    "    "
   ]
  },
  {
   "cell_type": "code",
   "execution_count": 20,
   "id": "94761a52",
   "metadata": {},
   "outputs": [],
   "source": [
    "class Course:\n",
    "    def __init__(self, name: str, num_students: int):\n",
    "        self.name = name\n",
    "        self.students = []\n",
    "        self.num_students = num_students\n",
    "        \n",
    "    def add_student(self, student):\n",
    "        if len(self.students) < self.num_students:\n",
    "            self.students.append(student)\n",
    "        else:\n",
    "            print(\"Course reached maximum number\")"
   ]
  },
  {
   "cell_type": "code",
   "execution_count": 21,
   "id": "9095ce5c",
   "metadata": {},
   "outputs": [],
   "source": [
    "st1 = Student('Tom', 92)\n",
    "st2 = Student('Hank', 80)\n",
    "st3 = Student(22,'Ram')"
   ]
  },
  {
   "cell_type": "code",
   "execution_count": 22,
   "id": "835e922b",
   "metadata": {},
   "outputs": [
    {
     "data": {
      "text/plain": [
       "'Ram'"
      ]
     },
     "execution_count": 22,
     "metadata": {},
     "output_type": "execute_result"
    }
   ],
   "source": [
    "st3.get_grade()"
   ]
  },
  {
   "cell_type": "code",
   "execution_count": 23,
   "id": "912115b6",
   "metadata": {},
   "outputs": [],
   "source": [
    "cs1 = Course('History', 2)"
   ]
  },
  {
   "cell_type": "code",
   "execution_count": 24,
   "id": "ea4ed59d",
   "metadata": {},
   "outputs": [],
   "source": [
    "cs1.add_student(st1)"
   ]
  },
  {
   "cell_type": "code",
   "execution_count": 25,
   "id": "e01c5998",
   "metadata": {},
   "outputs": [],
   "source": [
    "cs1.add_student(st2)"
   ]
  },
  {
   "cell_type": "code",
   "execution_count": 26,
   "id": "23f43175",
   "metadata": {},
   "outputs": [
    {
     "name": "stdout",
     "output_type": "stream",
     "text": [
      "Course reached maximum number\n"
     ]
    }
   ],
   "source": [
    "cs1.add_student(st3)"
   ]
  },
  {
   "cell_type": "code",
   "execution_count": 27,
   "id": "ea8798c1",
   "metadata": {},
   "outputs": [
    {
     "ename": "AttributeError",
     "evalue": "type object 'Course' has no attribute 'students'",
     "output_type": "error",
     "traceback": [
      "\u001b[0;31m---------------------------------------------------------------------------\u001b[0m",
      "\u001b[0;31mAttributeError\u001b[0m                            Traceback (most recent call last)",
      "\u001b[0;32m/tmp/ipykernel_86225/1264289592.py\u001b[0m in \u001b[0;36m<module>\u001b[0;34m\u001b[0m\n\u001b[0;32m----> 1\u001b[0;31m \u001b[0mCourse\u001b[0m\u001b[0;34m.\u001b[0m\u001b[0mstudents\u001b[0m\u001b[0;34m\u001b[0m\u001b[0;34m\u001b[0m\u001b[0m\n\u001b[0m",
      "\u001b[0;31mAttributeError\u001b[0m: type object 'Course' has no attribute 'students'"
     ]
    }
   ],
   "source": [
    "Course.students"
   ]
  },
  {
   "cell_type": "code",
   "execution_count": 28,
   "id": "90763c85",
   "metadata": {},
   "outputs": [
    {
     "data": {
      "text/plain": [
       "[<__main__.Student at 0x7f4e43009c90>, <__main__.Student at 0x7f4e42fe2980>]"
      ]
     },
     "execution_count": 28,
     "metadata": {},
     "output_type": "execute_result"
    }
   ],
   "source": [
    "cs1.students"
   ]
  },
  {
   "cell_type": "code",
   "execution_count": 30,
   "id": "3fee0f5b",
   "metadata": {},
   "outputs": [
    {
     "name": "stdout",
     "output_type": "stream",
     "text": [
      "Tom\n",
      "Hank\n"
     ]
    }
   ],
   "source": [
    "for i in cs1.students:\n",
    "    print(i.name)"
   ]
  },
  {
   "cell_type": "code",
   "execution_count": 31,
   "id": "09171404",
   "metadata": {},
   "outputs": [],
   "source": [
    "class Employee:\n",
    "    salary_raise = 1.07\n",
    "    \n",
    "    def __init__(self, firstname, lastname, salary):\n",
    "        self.firstname = firstname\n",
    "        self.lastname = lastname\n",
    "        self.salary = salary\n",
    "        \n",
    "    def get_raise(self):\n",
    "        return self.salary * self. salary_raise\n",
    "    "
   ]
  },
  {
   "cell_type": "code",
   "execution_count": 32,
   "id": "7456c997",
   "metadata": {},
   "outputs": [],
   "source": [
    "emp1 = Employee('Tom','Hank', 30000)"
   ]
  },
  {
   "cell_type": "code",
   "execution_count": 33,
   "id": "30b70024",
   "metadata": {},
   "outputs": [
    {
     "data": {
      "text/plain": [
       "32100.000000000004"
      ]
     },
     "execution_count": 33,
     "metadata": {},
     "output_type": "execute_result"
    }
   ],
   "source": [
    "emp1.get_raise()"
   ]
  },
  {
   "cell_type": "code",
   "execution_count": 34,
   "id": "7d6d58dc",
   "metadata": {},
   "outputs": [
    {
     "data": {
      "text/plain": [
       "1.07"
      ]
     },
     "execution_count": 34,
     "metadata": {},
     "output_type": "execute_result"
    }
   ],
   "source": [
    "Employee.salary_raise"
   ]
  },
  {
   "cell_type": "code",
   "execution_count": 35,
   "id": "646d104c",
   "metadata": {},
   "outputs": [],
   "source": [
    "Employee.salary_raise = 1.09"
   ]
  },
  {
   "cell_type": "code",
   "execution_count": 36,
   "id": "a3b9253a",
   "metadata": {},
   "outputs": [
    {
     "data": {
      "text/plain": [
       "1.09"
      ]
     },
     "execution_count": 36,
     "metadata": {},
     "output_type": "execute_result"
    }
   ],
   "source": [
    "Employee.salary_raise"
   ]
  },
  {
   "cell_type": "code",
   "execution_count": 37,
   "id": "4f949bc7",
   "metadata": {},
   "outputs": [
    {
     "data": {
      "text/plain": [
       "1.09"
      ]
     },
     "execution_count": 37,
     "metadata": {},
     "output_type": "execute_result"
    }
   ],
   "source": [
    "emp1.salary_raise"
   ]
  },
  {
   "cell_type": "code",
   "execution_count": 38,
   "id": "01130ba9",
   "metadata": {},
   "outputs": [],
   "source": [
    "emp1.salary_raise = 2"
   ]
  },
  {
   "cell_type": "code",
   "execution_count": 39,
   "id": "ffb65dec",
   "metadata": {},
   "outputs": [
    {
     "data": {
      "text/plain": [
       "2"
      ]
     },
     "execution_count": 39,
     "metadata": {},
     "output_type": "execute_result"
    }
   ],
   "source": [
    "emp1.salary_raise"
   ]
  },
  {
   "cell_type": "code",
   "execution_count": 40,
   "id": "d1624033",
   "metadata": {},
   "outputs": [
    {
     "data": {
      "text/plain": [
       "60000"
      ]
     },
     "execution_count": 40,
     "metadata": {},
     "output_type": "execute_result"
    }
   ],
   "source": [
    "emp1.get_raise()"
   ]
  },
  {
   "cell_type": "code",
   "execution_count": 41,
   "id": "831c7ab8",
   "metadata": {},
   "outputs": [
    {
     "data": {
      "text/plain": [
       "1.09"
      ]
     },
     "execution_count": 41,
     "metadata": {},
     "output_type": "execute_result"
    }
   ],
   "source": [
    "Employee.salary_raise"
   ]
  },
  {
   "cell_type": "code",
   "execution_count": 42,
   "id": "078e0991",
   "metadata": {},
   "outputs": [
    {
     "data": {
      "text/plain": [
       "{'firstname': 'Tom', 'lastname': 'Hank', 'salary': 30000, 'salary_raise': 2}"
      ]
     },
     "execution_count": 42,
     "metadata": {},
     "output_type": "execute_result"
    }
   ],
   "source": [
    "emp1.__dict__"
   ]
  },
  {
   "cell_type": "code",
   "execution_count": 43,
   "id": "4746df04",
   "metadata": {},
   "outputs": [],
   "source": [
    "class Employee:\n",
    "    salary_raise = 1.07\n",
    "    \n",
    "    def __init__(self, firstname, lastname, salary):\n",
    "        self.firstname = firstname\n",
    "        self.lastname = lastname\n",
    "        self.salary = salary\n",
    "        \n",
    "    def get_raise(self):\n",
    "        return self.salary * Employee. salary_raise\n",
    "    "
   ]
  },
  {
   "cell_type": "code",
   "execution_count": 47,
   "id": "0ad10f98",
   "metadata": {},
   "outputs": [],
   "source": [
    "emp2= Employee('Ram', 'Naam', 3600)"
   ]
  },
  {
   "cell_type": "code",
   "execution_count": 50,
   "id": "c4837727",
   "metadata": {},
   "outputs": [
    {
     "data": {
      "text/plain": [
       "3852.0"
      ]
     },
     "execution_count": 50,
     "metadata": {},
     "output_type": "execute_result"
    }
   ],
   "source": [
    "emp2.get_raise()"
   ]
  },
  {
   "cell_type": "code",
   "execution_count": 51,
   "id": "d6450d95",
   "metadata": {},
   "outputs": [],
   "source": [
    "emp2.salary_raise = 2"
   ]
  },
  {
   "cell_type": "code",
   "execution_count": 52,
   "id": "ec159f3b",
   "metadata": {},
   "outputs": [
    {
     "data": {
      "text/plain": [
       "3852.0"
      ]
     },
     "execution_count": 52,
     "metadata": {},
     "output_type": "execute_result"
    }
   ],
   "source": [
    "emp2.get_raise()"
   ]
  },
  {
   "cell_type": "code",
   "execution_count": 53,
   "id": "0dce0064",
   "metadata": {},
   "outputs": [],
   "source": [
    "Employee.salary_raise = 3"
   ]
  },
  {
   "cell_type": "code",
   "execution_count": 54,
   "id": "30363d45",
   "metadata": {},
   "outputs": [
    {
     "data": {
      "text/plain": [
       "10800"
      ]
     },
     "execution_count": 54,
     "metadata": {},
     "output_type": "execute_result"
    }
   ],
   "source": [
    "emp2.get_raise()"
   ]
  },
  {
   "cell_type": "code",
   "execution_count": 55,
   "id": "6b51a1be",
   "metadata": {},
   "outputs": [],
   "source": [
    "class Employee:\n",
    "    __salary_raise = 1.07\n",
    "    \n",
    "    def __init__(self, firstname, lastname, salary):\n",
    "        self.firstname = firstname\n",
    "        self.lastname = lastname\n",
    "        self.salary = salary\n",
    "        \n",
    "    def get_raise(self):\n",
    "        return self.salary * Employee.__salary_raise\n",
    "    "
   ]
  },
  {
   "cell_type": "code",
   "execution_count": 56,
   "id": "0c9d6dec",
   "metadata": {},
   "outputs": [],
   "source": [
    "emp3 = Employee('A','B', 2500)"
   ]
  },
  {
   "cell_type": "code",
   "execution_count": 57,
   "id": "5324d405",
   "metadata": {},
   "outputs": [
    {
     "ename": "AttributeError",
     "evalue": "'Employee' object has no attribute '__salary_raise'",
     "output_type": "error",
     "traceback": [
      "\u001b[0;31m---------------------------------------------------------------------------\u001b[0m",
      "\u001b[0;31mAttributeError\u001b[0m                            Traceback (most recent call last)",
      "\u001b[0;32m/tmp/ipykernel_86225/3343505753.py\u001b[0m in \u001b[0;36m<module>\u001b[0;34m\u001b[0m\n\u001b[0;32m----> 1\u001b[0;31m \u001b[0memp3\u001b[0m\u001b[0;34m.\u001b[0m\u001b[0m__salary_raise\u001b[0m\u001b[0;34m\u001b[0m\u001b[0;34m\u001b[0m\u001b[0m\n\u001b[0m",
      "\u001b[0;31mAttributeError\u001b[0m: 'Employee' object has no attribute '__salary_raise'"
     ]
    }
   ],
   "source": [
    "emp3.__salary_raise"
   ]
  },
  {
   "cell_type": "code",
   "execution_count": 58,
   "id": "2e070b7e",
   "metadata": {},
   "outputs": [
    {
     "data": {
      "text/plain": [
       "2675.0"
      ]
     },
     "execution_count": 58,
     "metadata": {},
     "output_type": "execute_result"
    }
   ],
   "source": [
    "emp3.get_raise()"
   ]
  },
  {
   "cell_type": "code",
   "execution_count": 59,
   "id": "5997625e",
   "metadata": {},
   "outputs": [
    {
     "ename": "AttributeError",
     "evalue": "type object 'Employee' has no attribute '__salary_raise'",
     "output_type": "error",
     "traceback": [
      "\u001b[0;31m---------------------------------------------------------------------------\u001b[0m",
      "\u001b[0;31mAttributeError\u001b[0m                            Traceback (most recent call last)",
      "\u001b[0;32m/tmp/ipykernel_86225/2991487222.py\u001b[0m in \u001b[0;36m<module>\u001b[0;34m\u001b[0m\n\u001b[0;32m----> 1\u001b[0;31m \u001b[0mEmployee\u001b[0m\u001b[0;34m.\u001b[0m\u001b[0m__salary_raise\u001b[0m\u001b[0;34m\u001b[0m\u001b[0;34m\u001b[0m\u001b[0m\n\u001b[0m",
      "\u001b[0;31mAttributeError\u001b[0m: type object 'Employee' has no attribute '__salary_raise'"
     ]
    }
   ],
   "source": [
    "Employee.__salary_raise"
   ]
  },
  {
   "cell_type": "code",
   "execution_count": 61,
   "id": "1291c1d3",
   "metadata": {},
   "outputs": [
    {
     "data": {
      "text/plain": [
       "1.07"
      ]
     },
     "execution_count": 61,
     "metadata": {},
     "output_type": "execute_result"
    }
   ],
   "source": [
    "Employee._Employee__salary_raise"
   ]
  },
  {
   "cell_type": "code",
   "execution_count": 62,
   "id": "0e971e30",
   "metadata": {},
   "outputs": [],
   "source": [
    "class Employee:\n",
    "    __salary_raise = 1.07\n",
    "    no_of_emp = 0\n",
    "    \n",
    "    def __init__(self, firstname, lastname, salary):\n",
    "        self.firstname = firstname\n",
    "        self.lastname = lastname\n",
    "        self.salary = salary\n",
    "        Employee.no_of_emp += 1\n",
    "        \n",
    "    def get_raise(self):\n",
    "        return self.salary * Employee.__salary_raise\n",
    "    "
   ]
  },
  {
   "cell_type": "code",
   "execution_count": 63,
   "id": "55254c3c",
   "metadata": {},
   "outputs": [],
   "source": [
    "emp3 = Employee('A','B', 2500)\n",
    "emp3 = Employee('C','D', 2600)\n",
    "emp3 = Employee('E','F', 2700)"
   ]
  },
  {
   "cell_type": "code",
   "execution_count": 64,
   "id": "331aa2d3",
   "metadata": {},
   "outputs": [
    {
     "data": {
      "text/plain": [
       "3"
      ]
     },
     "execution_count": 64,
     "metadata": {},
     "output_type": "execute_result"
    }
   ],
   "source": [
    "emp3.no_of_emp"
   ]
  },
  {
   "cell_type": "code",
   "execution_count": 73,
   "id": "2b7e0845",
   "metadata": {},
   "outputs": [],
   "source": [
    "class Student:\n",
    "    def __init__(self, name, grade):\n",
    "        self.name = name\n",
    "        self.grade = grade\n",
    "        \n",
    "    def get_grade(self):\n",
    "        return self.grade\n",
    "    \n",
    "class Course:\n",
    "    total_student = 0\n",
    "    def __init__(self, name, max_students):\n",
    "        self.name = name\n",
    "        self.max_students = max_students\n",
    "        self.students = []\n",
    "        \n",
    "    def add_student(self, student):\n",
    "        if len(self.students) < self.max_students:\n",
    "            self.students.append(student)\n",
    "            Course.total_student += 1\n",
    "        else:\n",
    "            print(\"Course has reached its maximum students LIMIT\")"
   ]
  },
  {
   "cell_type": "code",
   "execution_count": 74,
   "id": "5fd25636",
   "metadata": {},
   "outputs": [],
   "source": [
    "st1 = Student('Tom',90)\n",
    "st2 = Student('Koo',95)\n",
    "st3 = Student('Tim',99)\n",
    "st4 = Student('mmk',30)\n",
    "st5 = Student('peg',54)\n",
    "st6 = Student('jwa',87)"
   ]
  },
  {
   "cell_type": "code",
   "execution_count": 75,
   "id": "92fee98a",
   "metadata": {},
   "outputs": [],
   "source": [
    "cs1 = Course('History',2)\n",
    "cs2 = Course('Math', 3)"
   ]
  },
  {
   "cell_type": "code",
   "execution_count": 76,
   "id": "daec24e2",
   "metadata": {},
   "outputs": [
    {
     "name": "stdout",
     "output_type": "stream",
     "text": [
      "Course has reached its maximum students LIMIT\n",
      "Course has reached its maximum students LIMIT\n"
     ]
    }
   ],
   "source": [
    "cs1.add_student(st1)\n",
    "cs1.add_student(st2)\n",
    "cs1.add_student(st3)\n",
    "cs1.add_student(st4)"
   ]
  },
  {
   "cell_type": "code",
   "execution_count": 77,
   "id": "e865e16b",
   "metadata": {},
   "outputs": [
    {
     "data": {
      "text/plain": [
       "2"
      ]
     },
     "execution_count": 77,
     "metadata": {},
     "output_type": "execute_result"
    }
   ],
   "source": [
    "cs1.total_student"
   ]
  },
  {
   "cell_type": "code",
   "execution_count": 78,
   "id": "3db9f493",
   "metadata": {},
   "outputs": [
    {
     "data": {
      "text/plain": [
       "2"
      ]
     },
     "execution_count": 78,
     "metadata": {},
     "output_type": "execute_result"
    }
   ],
   "source": [
    "cs1.max_students"
   ]
  },
  {
   "cell_type": "code",
   "execution_count": 79,
   "id": "beccfa47",
   "metadata": {},
   "outputs": [
    {
     "data": {
      "text/plain": [
       "[<__main__.Student at 0x7f4e430082e0>, <__main__.Student at 0x7f4e4300bb80>]"
      ]
     },
     "execution_count": 79,
     "metadata": {},
     "output_type": "execute_result"
    }
   ],
   "source": [
    "cs1.students"
   ]
  },
  {
   "cell_type": "code",
   "execution_count": 83,
   "id": "1939dd8d",
   "metadata": {},
   "outputs": [
    {
     "name": "stdout",
     "output_type": "stream",
     "text": [
      "Course has reached its maximum students LIMIT\n",
      "Course has reached its maximum students LIMIT\n"
     ]
    }
   ],
   "source": [
    "cs2.add_student(st5)\n",
    "cs2.add_student(st6)\n",
    "cs2.add_student(st1)"
   ]
  },
  {
   "cell_type": "code",
   "execution_count": 84,
   "id": "b8b152c1",
   "metadata": {},
   "outputs": [
    {
     "data": {
      "text/plain": [
       "5"
      ]
     },
     "execution_count": 84,
     "metadata": {},
     "output_type": "execute_result"
    }
   ],
   "source": [
    "cs2.total_student"
   ]
  },
  {
   "cell_type": "code",
   "execution_count": 86,
   "id": "8259f8ba",
   "metadata": {},
   "outputs": [
    {
     "data": {
      "text/plain": [
       "5"
      ]
     },
     "execution_count": 86,
     "metadata": {},
     "output_type": "execute_result"
    }
   ],
   "source": [
    "Course.total_student"
   ]
  },
  {
   "cell_type": "markdown",
   "id": "3bd524a5",
   "metadata": {},
   "source": [
    "# Class Methods"
   ]
  },
  {
   "cell_type": "code",
   "execution_count": 87,
   "id": "2ec85ffc",
   "metadata": {},
   "outputs": [],
   "source": [
    "class Employee:\n",
    "    __salary_raise = 1.07\n",
    "    no_of_emp = 0\n",
    "    \n",
    "    def __init__(self, firstname, lastname, salary):\n",
    "        self.firstname = firstname\n",
    "        self.lastname = lastname\n",
    "        self.salary = salary\n",
    "        Employee.no_of_emp += 1\n",
    "        \n",
    "    def get_raise(self):\n",
    "        return self.salary * Employee.__salary_raise\n",
    "    \n",
    "    @classmethod\n",
    "    def from_csv(cls, emp):\n",
    "        firstname, lastname, salary = emp.split(',')\n",
    "        return cls(firstname, lastname, int(salary))\n",
    "    \n",
    "    "
   ]
  },
  {
   "cell_type": "code",
   "execution_count": 88,
   "id": "06bb7c4c",
   "metadata": {},
   "outputs": [],
   "source": [
    "emp1 = Employee.from_csv('Tom, John, 8900')"
   ]
  },
  {
   "cell_type": "code",
   "execution_count": 89,
   "id": "21b086f6",
   "metadata": {},
   "outputs": [
    {
     "data": {
      "text/plain": [
       "9523.0"
      ]
     },
     "execution_count": 89,
     "metadata": {},
     "output_type": "execute_result"
    }
   ],
   "source": [
    "emp1.get_raise()"
   ]
  },
  {
   "cell_type": "code",
   "execution_count": 90,
   "id": "c50f24e7",
   "metadata": {},
   "outputs": [],
   "source": [
    "class Employee:\n",
    "    __salary_raise = 1.07\n",
    "    no_of_emp = 0\n",
    "    \n",
    "    def __init__(self, firstname, lastname, salary):\n",
    "        self.firstname = firstname\n",
    "        self.lastname = lastname\n",
    "        self.salary = salary\n",
    "        Employee.no_of_emp += 1\n",
    "        \n",
    "    def get_raise(self):\n",
    "        return self.salary * Employee.__salary_raise\n",
    "    \n",
    "    @classmethod\n",
    "    def from_csv(cls, emp):\n",
    "        firstname, lastname, salary = emp.split(',')\n",
    "        return cls(firstname, lastname, int(salary))\n",
    "    \n",
    "    @classmethod\n",
    "    def from_str(cls, emp):\n",
    "        firstname, lastname, salary = emp.split(' ')\n",
    "        return cls(firstname, lastname, int(salary))\n",
    "    \n",
    "    "
   ]
  },
  {
   "cell_type": "code",
   "execution_count": 92,
   "id": "b777222d",
   "metadata": {},
   "outputs": [],
   "source": [
    "emp2 = Employee.from_str('Balson Gorai 9876')"
   ]
  },
  {
   "cell_type": "code",
   "execution_count": 93,
   "id": "07ce11ed",
   "metadata": {},
   "outputs": [
    {
     "data": {
      "text/plain": [
       "10567.32"
      ]
     },
     "execution_count": 93,
     "metadata": {},
     "output_type": "execute_result"
    }
   ],
   "source": [
    "emp2.get_raise()"
   ]
  },
  {
   "cell_type": "markdown",
   "id": "a5fb70e8",
   "metadata": {},
   "source": [
    " # Static Method"
   ]
  },
  {
   "cell_type": "code",
   "execution_count": 94,
   "id": "9372670b",
   "metadata": {},
   "outputs": [],
   "source": [
    "class Employee:\n",
    "    __salary_raise = 1.07\n",
    "    no_of_emp = 0\n",
    "    \n",
    "    def __init__(self, firstname, lastname, salary):\n",
    "        self.firstname = firstname\n",
    "        self.lastname = lastname\n",
    "        self.salary = salary\n",
    "        Employee.no_of_emp += 1\n",
    "        \n",
    "    def get_raise(self):\n",
    "        return self.salary * Employee.__salary_raise\n",
    "    \n",
    "    @staticmethod\n",
    "    def add_to_db(empid):\n",
    "        db = ['emp001', 'emp002', 'emp003']\n",
    "        if empid in db:\n",
    "            print(f\"Employee with ID - {empid} is already present in record.\")\n",
    "        else:\n",
    "            print(f\"Employee with ID - {empid} does not EXIST\")\n",
    "                  \n",
    "    "
   ]
  },
  {
   "cell_type": "code",
   "execution_count": 95,
   "id": "8dd842d8",
   "metadata": {},
   "outputs": [],
   "source": [
    "emp3 = Employee('abc','def', 9090)"
   ]
  },
  {
   "cell_type": "code",
   "execution_count": 96,
   "id": "891a8a31",
   "metadata": {},
   "outputs": [
    {
     "data": {
      "text/plain": [
       "9726.300000000001"
      ]
     },
     "execution_count": 96,
     "metadata": {},
     "output_type": "execute_result"
    }
   ],
   "source": [
    "emp3.get_raise()"
   ]
  },
  {
   "cell_type": "code",
   "execution_count": 97,
   "id": "daec0428",
   "metadata": {},
   "outputs": [
    {
     "name": "stdout",
     "output_type": "stream",
     "text": [
      "Employee with ID - abc does not EXIST\n"
     ]
    }
   ],
   "source": [
    "emp3.add_to_db('abc')"
   ]
  },
  {
   "cell_type": "code",
   "execution_count": 98,
   "id": "aa2942e5",
   "metadata": {},
   "outputs": [],
   "source": [
    "class Subscriber:\n",
    "    age = 30\n",
    "    \n",
    "    def __init__(self, myage):\n",
    "        self.myage = myage\n",
    "        Subscriber.age += myage"
   ]
  },
  {
   "cell_type": "code",
   "execution_count": 99,
   "id": "386090e1",
   "metadata": {},
   "outputs": [],
   "source": [
    "sub1 = Subscriber(10)"
   ]
  },
  {
   "cell_type": "code",
   "execution_count": 100,
   "id": "1b369095",
   "metadata": {},
   "outputs": [
    {
     "data": {
      "text/plain": [
       "40"
      ]
     },
     "execution_count": 100,
     "metadata": {},
     "output_type": "execute_result"
    }
   ],
   "source": [
    "sub1.age"
   ]
  },
  {
   "cell_type": "markdown",
   "id": "61004536",
   "metadata": {},
   "source": [
    "# Getters"
   ]
  },
  {
   "cell_type": "code",
   "execution_count": 114,
   "id": "6b84b5a1",
   "metadata": {},
   "outputs": [],
   "source": [
    "class Employee:\n",
    "    salary_raise = 1.04\n",
    "    def __init__(self, firstname, lastname, salary):\n",
    "        self.firstname = firstname\n",
    "        self.lastname = lastname\n",
    "        self.salary = salary\n",
    "#         self.fullname = self.firstname + \" \" + self.lastname\n",
    "\n",
    "    @property\n",
    "    def fullname(self):\n",
    "        return self.firstname + \" \" + self.lastname"
   ]
  },
  {
   "cell_type": "code",
   "execution_count": 115,
   "id": "ee86b02e",
   "metadata": {},
   "outputs": [],
   "source": [
    "emp1 = Employee('A','B', 1233)"
   ]
  },
  {
   "cell_type": "code",
   "execution_count": 116,
   "id": "057159ef",
   "metadata": {},
   "outputs": [],
   "source": [
    "emp1.firstname = 'AA'"
   ]
  },
  {
   "cell_type": "code",
   "execution_count": 117,
   "id": "3fe90530",
   "metadata": {},
   "outputs": [
    {
     "data": {
      "text/plain": [
       "'AA B'"
      ]
     },
     "execution_count": 117,
     "metadata": {},
     "output_type": "execute_result"
    }
   ],
   "source": [
    "emp1.fullname"
   ]
  },
  {
   "cell_type": "markdown",
   "id": "a86bd523",
   "metadata": {},
   "source": [
    "# Setters"
   ]
  },
  {
   "cell_type": "code",
   "execution_count": 118,
   "id": "1e13b16d",
   "metadata": {},
   "outputs": [],
   "source": [
    "class Employee:\n",
    "    salary_raise = 1.04\n",
    "    def __init__(self, firstname, lastname, salary):\n",
    "        self.firstname = firstname\n",
    "        self.lastname = lastname\n",
    "        self.salary = salary\n",
    "\n",
    "    @property\n",
    "    def fullname(self):\n",
    "        return self.firstname + \" \" + self.lastname\n",
    "    \n",
    "    @fullname.setter\n",
    "    def fullname(self, name):\n",
    "        firstname, lastname = name.split(\" \")\n",
    "        self.firstname, self.lastname = firstname, lastname"
   ]
  },
  {
   "cell_type": "code",
   "execution_count": 119,
   "id": "1968449a",
   "metadata": {},
   "outputs": [],
   "source": [
    "emp3 = Employee('abc', 'def', 444)"
   ]
  },
  {
   "cell_type": "code",
   "execution_count": 120,
   "id": "373475b5",
   "metadata": {},
   "outputs": [
    {
     "data": {
      "text/plain": [
       "'abc def'"
      ]
     },
     "execution_count": 120,
     "metadata": {},
     "output_type": "execute_result"
    }
   ],
   "source": [
    "emp3.fullname"
   ]
  },
  {
   "cell_type": "code",
   "execution_count": 121,
   "id": "5aa65dad",
   "metadata": {},
   "outputs": [],
   "source": [
    "emp3.firstname = 'qwert'"
   ]
  },
  {
   "cell_type": "code",
   "execution_count": 122,
   "id": "36a435b2",
   "metadata": {},
   "outputs": [
    {
     "data": {
      "text/plain": [
       "'qwert def'"
      ]
     },
     "execution_count": 122,
     "metadata": {},
     "output_type": "execute_result"
    }
   ],
   "source": [
    "emp3.fullname"
   ]
  },
  {
   "cell_type": "code",
   "execution_count": 124,
   "id": "e75c131e",
   "metadata": {},
   "outputs": [],
   "source": [
    "emp3.fullname = 'Allo Bhaji'"
   ]
  },
  {
   "cell_type": "code",
   "execution_count": 125,
   "id": "4bf268eb",
   "metadata": {},
   "outputs": [
    {
     "data": {
      "text/plain": [
       "'Allo Bhaji'"
      ]
     },
     "execution_count": 125,
     "metadata": {},
     "output_type": "execute_result"
    }
   ],
   "source": [
    "emp3.fullname"
   ]
  },
  {
   "cell_type": "code",
   "execution_count": 126,
   "id": "88947d5b",
   "metadata": {},
   "outputs": [
    {
     "data": {
      "text/plain": [
       "'Allo'"
      ]
     },
     "execution_count": 126,
     "metadata": {},
     "output_type": "execute_result"
    }
   ],
   "source": [
    "emp3.firstname"
   ]
  },
  {
   "cell_type": "code",
   "execution_count": 140,
   "id": "33cb557e",
   "metadata": {},
   "outputs": [],
   "source": [
    "class Employee:\n",
    "    salary_raise = 1.04\n",
    "    def __init__(self, firstname, lastname, salary):\n",
    "        self.firstname = firstname\n",
    "        self.lastname = lastname\n",
    "        self.salary = salary\n",
    "\n",
    "    @property\n",
    "    def fullname(self):\n",
    "        return self.firstname + \" \" + self.lastname\n",
    "    \n",
    "    @fullname.setter\n",
    "    def fullname(self, name):\n",
    "        firstname, lastname = name.split(\" \")\n",
    "        self.firstname, self.lastname = firstname, lastname\n",
    "        \n",
    "    def __str__(self):\n",
    "        return self.fullname"
   ]
  },
  {
   "cell_type": "code",
   "execution_count": 141,
   "id": "6a3d548c",
   "metadata": {},
   "outputs": [],
   "source": [
    "emp4 = Employee('panda', 'kullu', 4545)"
   ]
  },
  {
   "cell_type": "code",
   "execution_count": 142,
   "id": "ecf14b1d",
   "metadata": {},
   "outputs": [
    {
     "data": {
      "text/plain": [
       "<__main__.Employee at 0x7f4e4300b7c0>"
      ]
     },
     "execution_count": 142,
     "metadata": {},
     "output_type": "execute_result"
    }
   ],
   "source": [
    "emp4"
   ]
  },
  {
   "cell_type": "code",
   "execution_count": 143,
   "id": "79109b71",
   "metadata": {},
   "outputs": [
    {
     "data": {
      "text/plain": [
       "'panda kullu'"
      ]
     },
     "execution_count": 143,
     "metadata": {},
     "output_type": "execute_result"
    }
   ],
   "source": [
    "emp4.fullname"
   ]
  },
  {
   "cell_type": "code",
   "execution_count": 144,
   "id": "0d22198d",
   "metadata": {},
   "outputs": [
    {
     "name": "stdout",
     "output_type": "stream",
     "text": [
      "panda kullu\n"
     ]
    }
   ],
   "source": [
    "print(emp4)"
   ]
  },
  {
   "cell_type": "code",
   "execution_count": 145,
   "id": "1c1a4bf4",
   "metadata": {},
   "outputs": [],
   "source": [
    "class Employee:\n",
    "    salary_raise = 1.04\n",
    "    def __init__(self, firstname, lastname, salary):\n",
    "        self.firstname = firstname\n",
    "        self.lastname = lastname\n",
    "        self.salary = salary\n",
    "\n",
    "    @property\n",
    "    def fullname(self):\n",
    "        return self.firstname + \" \" + self.lastname\n",
    "    \n",
    "    @fullname.setter\n",
    "    def fullname(self, name):\n",
    "        firstname, lastname = name.split(\" \")\n",
    "        self.firstname, self.lastname = firstname, lastname\n",
    "        \n",
    "    def __repr__(self):\n",
    "        return self.firstname"
   ]
  },
  {
   "cell_type": "code",
   "execution_count": 146,
   "id": "18b70f54",
   "metadata": {},
   "outputs": [],
   "source": [
    "emp8 = Employee('abra', 'dabra', 87)"
   ]
  },
  {
   "cell_type": "code",
   "execution_count": 147,
   "id": "80e56ba0",
   "metadata": {},
   "outputs": [
    {
     "name": "stdout",
     "output_type": "stream",
     "text": [
      "abra\n"
     ]
    }
   ],
   "source": [
    "print(emp8)"
   ]
  },
  {
   "cell_type": "code",
   "execution_count": 148,
   "id": "e6ad5cc3",
   "metadata": {},
   "outputs": [
    {
     "data": {
      "text/plain": [
       "'abra'"
      ]
     },
     "execution_count": 148,
     "metadata": {},
     "output_type": "execute_result"
    }
   ],
   "source": [
    "repr(emp8)"
   ]
  },
  {
   "cell_type": "code",
   "execution_count": 153,
   "id": "3ccd84fc",
   "metadata": {},
   "outputs": [],
   "source": [
    "class Employee:\n",
    "    salary_raise = 1.04\n",
    "    def __init__(self, firstname, lastname, salary):\n",
    "        self.firstname = firstname\n",
    "        self.lastname = lastname\n",
    "        self.salary = salary\n",
    "\n",
    "    @property\n",
    "    def fullname(self):\n",
    "        return self.firstname + \" \" + self.lastname\n",
    "    \n",
    "    @fullname.setter\n",
    "    def fullname(self, name):\n",
    "        firstname, lastname = name.split(\" \")\n",
    "        self.firstname, self.lastname = firstname, lastname\n",
    "        \n",
    "    def __str__(self):\n",
    "        return self.fullname\n",
    "    \n",
    "    def __repr__(self):\n",
    "        return self.firstname"
   ]
  },
  {
   "cell_type": "code",
   "execution_count": 154,
   "id": "b4113d2e",
   "metadata": {},
   "outputs": [],
   "source": [
    "emp5 = Employee('Bam', 'Bhole', 77)"
   ]
  },
  {
   "cell_type": "code",
   "execution_count": 155,
   "id": "c43d34ee",
   "metadata": {},
   "outputs": [
    {
     "name": "stdout",
     "output_type": "stream",
     "text": [
      "Bam Bhole\n"
     ]
    }
   ],
   "source": [
    "print(emp5)"
   ]
  },
  {
   "cell_type": "code",
   "execution_count": 156,
   "id": "aaddccc4",
   "metadata": {},
   "outputs": [
    {
     "data": {
      "text/plain": [
       "'Bam'"
      ]
     },
     "execution_count": 156,
     "metadata": {},
     "output_type": "execute_result"
    }
   ],
   "source": [
    "repr(emp5)"
   ]
  },
  {
   "cell_type": "code",
   "execution_count": 157,
   "id": "3306edb2",
   "metadata": {},
   "outputs": [
    {
     "data": {
      "text/plain": [
       "['__class__',\n",
       " '__delattr__',\n",
       " '__dict__',\n",
       " '__dir__',\n",
       " '__doc__',\n",
       " '__eq__',\n",
       " '__format__',\n",
       " '__ge__',\n",
       " '__getattribute__',\n",
       " '__gt__',\n",
       " '__hash__',\n",
       " '__init__',\n",
       " '__init_subclass__',\n",
       " '__le__',\n",
       " '__lt__',\n",
       " '__module__',\n",
       " '__ne__',\n",
       " '__new__',\n",
       " '__reduce__',\n",
       " '__reduce_ex__',\n",
       " '__repr__',\n",
       " '__setattr__',\n",
       " '__sizeof__',\n",
       " '__str__',\n",
       " '__subclasshook__',\n",
       " '__weakref__',\n",
       " 'fullname',\n",
       " 'salary_raise']"
      ]
     },
     "execution_count": 157,
     "metadata": {},
     "output_type": "execute_result"
    }
   ],
   "source": [
    "dir(Employee)"
   ]
  },
  {
   "cell_type": "code",
   "execution_count": 158,
   "id": "77627510",
   "metadata": {},
   "outputs": [],
   "source": [
    "class Employee:\n",
    "    salary_raise = 1.04\n",
    "    def __init__(self, firstname, lastname, salary):\n",
    "        self.firstname = firstname\n",
    "        self.lastname = lastname\n",
    "        self.salary = salary\n",
    "\n",
    "    @property\n",
    "    def fullname(self):\n",
    "        return self.firstname + \" \" + self.lastname\n",
    "    \n",
    "    @fullname.setter\n",
    "    def fullname(self, name):\n",
    "        firstname, lastname = name.split(\" \")\n",
    "        self.firstname, self.lastname = firstname, lastname\n",
    "        \n",
    "    def __str__(self):\n",
    "        return self.fullname\n",
    "    \n",
    "    def __repr__(self):\n",
    "        return self.firstname\n",
    "    \n",
    "    def __add__(self, other):\n",
    "        return self.salary + other.salary"
   ]
  },
  {
   "cell_type": "code",
   "execution_count": 159,
   "id": "55d2a605",
   "metadata": {},
   "outputs": [],
   "source": [
    "emp6 = Employee('a','b', 55)\n",
    "emp9 = Employee('e', 'p', 66)"
   ]
  },
  {
   "cell_type": "code",
   "execution_count": 160,
   "id": "ed2d683e",
   "metadata": {},
   "outputs": [
    {
     "data": {
      "text/plain": [
       "121"
      ]
     },
     "execution_count": 160,
     "metadata": {},
     "output_type": "execute_result"
    }
   ],
   "source": [
    "emp6 + emp9"
   ]
  },
  {
   "cell_type": "code",
   "execution_count": null,
   "id": "64c19004",
   "metadata": {},
   "outputs": [],
   "source": []
  }
 ],
 "metadata": {
  "kernelspec": {
   "display_name": "Python 3",
   "language": "python",
   "name": "python3"
  },
  "language_info": {
   "codemirror_mode": {
    "name": "ipython",
    "version": 3
   },
   "file_extension": ".py",
   "mimetype": "text/x-python",
   "name": "python",
   "nbconvert_exporter": "python",
   "pygments_lexer": "ipython3",
   "version": "3.10.12"
  }
 },
 "nbformat": 4,
 "nbformat_minor": 5
}
